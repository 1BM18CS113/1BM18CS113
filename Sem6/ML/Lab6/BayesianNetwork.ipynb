{
  "nbformat": 4,
  "nbformat_minor": 0,
  "metadata": {
    "colab": {
      "name": "BayesianNetwork.ipynb",
      "provenance": []
    },
    "kernelspec": {
      "name": "python3",
      "display_name": "Python 3"
    },
    "language_info": {
      "name": "python"
    }
  },
  "cells": [
    {
      "cell_type": "code",
      "metadata": {
        "colab": {
          "base_uri": "https://localhost:8080/"
        },
        "id": "5ypP12So0rO6",
        "outputId": "83b44346-85ef-4251-e61e-89215f0b6e65"
      },
      "source": [
        "!pip install pgmpy"
      ],
      "execution_count": 1,
      "outputs": [
        {
          "output_type": "stream",
          "text": [
            "Collecting pgmpy\n",
            "\u001b[?25l  Downloading https://files.pythonhosted.org/packages/a3/0e/d9fadbfaa35e010c04d43acd3ae9fbefec98897dd7d61a6b7eb5a8b34072/pgmpy-0.1.14-py3-none-any.whl (331kB)\n",
            "\r\u001b[K     |█                               | 10kB 13.9MB/s eta 0:00:01\r\u001b[K     |██                              | 20kB 19.7MB/s eta 0:00:01\r\u001b[K     |███                             | 30kB 24.4MB/s eta 0:00:01\r\u001b[K     |████                            | 40kB 20.6MB/s eta 0:00:01\r\u001b[K     |█████                           | 51kB 21.9MB/s eta 0:00:01\r\u001b[K     |██████                          | 61kB 20.9MB/s eta 0:00:01\r\u001b[K     |███████                         | 71kB 20.4MB/s eta 0:00:01\r\u001b[K     |████████                        | 81kB 17.1MB/s eta 0:00:01\r\u001b[K     |█████████                       | 92kB 17.5MB/s eta 0:00:01\r\u001b[K     |█████████▉                      | 102kB 16.7MB/s eta 0:00:01\r\u001b[K     |██████████▉                     | 112kB 16.7MB/s eta 0:00:01\r\u001b[K     |███████████▉                    | 122kB 16.7MB/s eta 0:00:01\r\u001b[K     |████████████▉                   | 133kB 16.7MB/s eta 0:00:01\r\u001b[K     |█████████████▉                  | 143kB 16.7MB/s eta 0:00:01\r\u001b[K     |██████████████▉                 | 153kB 16.7MB/s eta 0:00:01\r\u001b[K     |███████████████▉                | 163kB 16.7MB/s eta 0:00:01\r\u001b[K     |████████████████▉               | 174kB 16.7MB/s eta 0:00:01\r\u001b[K     |█████████████████▉              | 184kB 16.7MB/s eta 0:00:01\r\u001b[K     |██████████████████▉             | 194kB 16.7MB/s eta 0:00:01\r\u001b[K     |███████████████████▊            | 204kB 16.7MB/s eta 0:00:01\r\u001b[K     |████████████████████▊           | 215kB 16.7MB/s eta 0:00:01\r\u001b[K     |█████████████████████▊          | 225kB 16.7MB/s eta 0:00:01\r\u001b[K     |██████████████████████▊         | 235kB 16.7MB/s eta 0:00:01\r\u001b[K     |███████████████████████▊        | 245kB 16.7MB/s eta 0:00:01\r\u001b[K     |████████████████████████▊       | 256kB 16.7MB/s eta 0:00:01\r\u001b[K     |█████████████████████████▊      | 266kB 16.7MB/s eta 0:00:01\r\u001b[K     |██████████████████████████▊     | 276kB 16.7MB/s eta 0:00:01\r\u001b[K     |███████████████████████████▊    | 286kB 16.7MB/s eta 0:00:01\r\u001b[K     |████████████████████████████▊   | 296kB 16.7MB/s eta 0:00:01\r\u001b[K     |█████████████████████████████▋  | 307kB 16.7MB/s eta 0:00:01\r\u001b[K     |██████████████████████████████▋ | 317kB 16.7MB/s eta 0:00:01\r\u001b[K     |███████████████████████████████▋| 327kB 16.7MB/s eta 0:00:01\r\u001b[K     |████████████████████████████████| 337kB 16.7MB/s \n",
            "\u001b[?25hRequirement already satisfied: joblib in /usr/local/lib/python3.7/dist-packages (from pgmpy) (1.0.1)\n",
            "Requirement already satisfied: pandas in /usr/local/lib/python3.7/dist-packages (from pgmpy) (1.1.5)\n",
            "Requirement already satisfied: statsmodels in /usr/local/lib/python3.7/dist-packages (from pgmpy) (0.10.2)\n",
            "Requirement already satisfied: numpy in /usr/local/lib/python3.7/dist-packages (from pgmpy) (1.19.5)\n",
            "Requirement already satisfied: tqdm in /usr/local/lib/python3.7/dist-packages (from pgmpy) (4.41.1)\n",
            "Requirement already satisfied: pyparsing in /usr/local/lib/python3.7/dist-packages (from pgmpy) (2.4.7)\n",
            "Requirement already satisfied: scikit-learn in /usr/local/lib/python3.7/dist-packages (from pgmpy) (0.22.2.post1)\n",
            "Requirement already satisfied: torch in /usr/local/lib/python3.7/dist-packages (from pgmpy) (1.8.1+cu101)\n",
            "Requirement already satisfied: scipy in /usr/local/lib/python3.7/dist-packages (from pgmpy) (1.4.1)\n",
            "Requirement already satisfied: networkx in /usr/local/lib/python3.7/dist-packages (from pgmpy) (2.5.1)\n",
            "Requirement already satisfied: pytz>=2017.2 in /usr/local/lib/python3.7/dist-packages (from pandas->pgmpy) (2018.9)\n",
            "Requirement already satisfied: python-dateutil>=2.7.3 in /usr/local/lib/python3.7/dist-packages (from pandas->pgmpy) (2.8.1)\n",
            "Requirement already satisfied: patsy>=0.4.0 in /usr/local/lib/python3.7/dist-packages (from statsmodels->pgmpy) (0.5.1)\n",
            "Requirement already satisfied: typing-extensions in /usr/local/lib/python3.7/dist-packages (from torch->pgmpy) (3.7.4.3)\n",
            "Requirement already satisfied: decorator<5,>=4.3 in /usr/local/lib/python3.7/dist-packages (from networkx->pgmpy) (4.4.2)\n",
            "Requirement already satisfied: six>=1.5 in /usr/local/lib/python3.7/dist-packages (from python-dateutil>=2.7.3->pandas->pgmpy) (1.15.0)\n",
            "Installing collected packages: pgmpy\n",
            "Successfully installed pgmpy-0.1.14\n"
          ],
          "name": "stdout"
        }
      ]
    },
    {
      "cell_type": "code",
      "metadata": {
        "colab": {
          "base_uri": "https://localhost:8080/"
        },
        "id": "Sy5LWJTpyXx7",
        "outputId": "fb8c25ae-8111-4c1c-e136-5cbfab2da90f"
      },
      "source": [
        "import numpy as np\n",
        "import pandas as pd\n",
        "import csv \n",
        "from pgmpy.estimators import MaximumLikelihoodEstimator\n",
        "from pgmpy.models import BayesianModel\n",
        "from pgmpy.inference import VariableElimination\n"
      ],
      "execution_count": 2,
      "outputs": [
        {
          "output_type": "stream",
          "text": [
            "/usr/local/lib/python3.7/dist-packages/statsmodels/tools/_testing.py:19: FutureWarning: pandas.util.testing is deprecated. Use the functions in the public API at pandas.testing instead.\n",
            "  import pandas.util.testing as tm\n"
          ],
          "name": "stderr"
        }
      ]
    },
    {
      "cell_type": "code",
      "metadata": {
        "colab": {
          "base_uri": "https://localhost:8080/"
        },
        "id": "JH52njGM0vwx",
        "outputId": "10a54795-2bdb-484d-e7f4-5d6a8537c604"
      },
      "source": [
        "heartDisease = pd.read_csv('/content/heart_disease.csv')\n",
        "heartDisease = heartDisease.replace('?',np.nan)\n",
        "\n",
        "print('Sample instances from the dataset are given below')\n",
        "print(heartDisease.head())\n",
        "\n",
        "print('\\n Attributes and datatypes')\n",
        "print(heartDisease.dtypes)"
      ],
      "execution_count": 3,
      "outputs": [
        {
          "output_type": "stream",
          "text": [
            "Sample instances from the dataset are given below\n",
            "   age  sex  cp  trestbps  chol  ...  oldpeak  slope  ca  thal  Heartdisease\n",
            "0   63    1   1       145   233  ...      2.3      3   0     6             0\n",
            "1   67    1   4       160   286  ...      1.5      2   3     3             2\n",
            "2   67    1   4       120   229  ...      2.6      2   2     7             1\n",
            "3   37    1   3       130   250  ...      3.5      3   0     3             0\n",
            "4   41    0   2       130   204  ...      1.4      1   0     3             0\n",
            "\n",
            "[5 rows x 14 columns]\n",
            "\n",
            " Attributes and datatypes\n",
            "age               int64\n",
            "sex               int64\n",
            "cp                int64\n",
            "trestbps          int64\n",
            "chol              int64\n",
            "fbs               int64\n",
            "restecg           int64\n",
            "thalach           int64\n",
            "exang             int64\n",
            "oldpeak         float64\n",
            "slope             int64\n",
            "ca               object\n",
            "thal             object\n",
            "Heartdisease      int64\n",
            "dtype: object\n"
          ],
          "name": "stdout"
        }
      ]
    },
    {
      "cell_type": "code",
      "metadata": {
        "colab": {
          "base_uri": "https://localhost:8080/"
        },
        "id": "yDfHBWSj04YD",
        "outputId": "81a4c7b9-25d4-49e3-97d6-b11589e1ebc8"
      },
      "source": [
        "model= BayesianModel([('age','Heartdisease'),('sex','Heartdisease'),('exang','Heartdisease'),('cp','Heartdisease'),('Heartdisease','restecg'),('Heartdisease','chol')])\n",
        "print('\\nLearning CPD using Maximum likelihood estimators')\n",
        "model.fit(heartDisease,estimator=MaximumLikelihoodEstimator)"
      ],
      "execution_count": 4,
      "outputs": [
        {
          "output_type": "stream",
          "text": [
            "\n",
            "Learning CPD using Maximum likelihood estimators\n"
          ],
          "name": "stdout"
        }
      ]
    },
    {
      "cell_type": "code",
      "metadata": {
        "colab": {
          "base_uri": "https://localhost:8080/"
        },
        "id": "0IDThbEo1Kvg",
        "outputId": "95d0ff8d-f8bf-4b3f-f082-5b37e9a48f90"
      },
      "source": [
        "print('\\n Inferencing with Bayesian Network:')\n",
        "HeartDiseasetest_infer = VariableElimination(model)\n",
        "\n",
        "print('\\n 1. Probability of HeartDisease given evidence= restecg')\n",
        "q1=HeartDiseasetest_infer.query(variables=['Heartdisease'],evidence={'restecg':1})\n",
        "print(q1)\n",
        "\n",
        "print('\\n 2. Probability of HeartDisease given evidence= cp ')\n",
        "q2=HeartDiseasetest_infer.query(variables=['Heartdisease'],evidence={'cp':2})\n",
        "print(q2)"
      ],
      "execution_count": 5,
      "outputs": [
        {
          "output_type": "stream",
          "text": [
            "Finding Elimination Order: : 100%|██████████| 5/5 [00:00<00:00, 728.15it/s]\n",
            "Eliminating: exang: 100%|██████████| 5/5 [00:00<00:00, 103.21it/s]"
          ],
          "name": "stderr"
        },
        {
          "output_type": "stream",
          "text": [
            "\n",
            " Inferencing with Bayesian Network:\n",
            "\n",
            " 1. Probability of HeartDisease given evidence= restecg\n",
            "+-----------------+---------------------+\n",
            "| Heartdisease    |   phi(Heartdisease) |\n",
            "+=================+=====================+\n",
            "| Heartdisease(0) |              0.1012 |\n",
            "+-----------------+---------------------+\n",
            "| Heartdisease(1) |              0.0000 |\n",
            "+-----------------+---------------------+\n",
            "| Heartdisease(2) |              0.2392 |\n",
            "+-----------------+---------------------+\n",
            "| Heartdisease(3) |              0.2015 |\n",
            "+-----------------+---------------------+\n",
            "| Heartdisease(4) |              0.4581 |\n",
            "+-----------------+---------------------+\n",
            "\n",
            " 2. Probability of HeartDisease given evidence= cp \n"
          ],
          "name": "stdout"
        },
        {
          "output_type": "stream",
          "text": [
            "\n",
            "Finding Elimination Order: : 100%|██████████| 5/5 [00:00<00:00, 1441.74it/s]\n",
            "Eliminating: restecg: 100%|██████████| 5/5 [00:00<00:00, 188.63it/s]"
          ],
          "name": "stderr"
        },
        {
          "output_type": "stream",
          "text": [
            "+-----------------+---------------------+\n",
            "| Heartdisease    |   phi(Heartdisease) |\n",
            "+=================+=====================+\n",
            "| Heartdisease(0) |              0.3610 |\n",
            "+-----------------+---------------------+\n",
            "| Heartdisease(1) |              0.2159 |\n",
            "+-----------------+---------------------+\n",
            "| Heartdisease(2) |              0.1373 |\n",
            "+-----------------+---------------------+\n",
            "| Heartdisease(3) |              0.1537 |\n",
            "+-----------------+---------------------+\n",
            "| Heartdisease(4) |              0.1321 |\n",
            "+-----------------+---------------------+\n"
          ],
          "name": "stdout"
        },
        {
          "output_type": "stream",
          "text": [
            "\n"
          ],
          "name": "stderr"
        }
      ]
    }
  ]
}